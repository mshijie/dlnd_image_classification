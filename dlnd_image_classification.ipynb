{
 "cells": [
  {
   "cell_type": "markdown",
   "metadata": {
    "collapsed": true,
    "deletable": true,
    "editable": true
   },
   "source": [
    "# Image Classification\n",
    "In this project, you'll classify images from the [CIFAR-10 dataset](https://www.cs.toronto.edu/~kriz/cifar.html).  The dataset consists of airplanes, dogs, cats, and other objects. You'll preprocess the images, then train a convolutional neural network on all the samples. The images need to be normalized and the labels need to be one-hot encoded.  You'll get to apply what you learned and build a convolutional, max pooling, dropout, and fully connected layers.  At the end, you'll get to see your neural network's predictions on the sample images.\n",
    "## Get the Data\n",
    "Run the following cell to download the [CIFAR-10 dataset for python](https://www.cs.toronto.edu/~kriz/cifar-10-python.tar.gz)."
   ]
  },
  {
   "cell_type": "code",
   "execution_count": 2,
   "metadata": {
    "collapsed": false,
    "deletable": true,
    "editable": true
   },
   "outputs": [
    {
     "name": "stderr",
     "output_type": "stream",
     "text": [
      "CIFAR-10 Dataset: 171MB [00:55, 3.05MB/s]                               \n"
     ]
    },
    {
     "name": "stdout",
     "output_type": "stream",
     "text": [
      "All files found!\n"
     ]
    }
   ],
   "source": [
    "\"\"\"\n",
    "DON'T MODIFY ANYTHING IN THIS CELL THAT IS BELOW THIS LINE\n",
    "\"\"\"\n",
    "from urllib.request import urlretrieve\n",
    "from os.path import isfile, isdir\n",
    "from tqdm import tqdm\n",
    "import problem_unittests as tests\n",
    "import tarfile\n",
    "import shutil\n",
    "\n",
    "cifar10_dataset_folder_path = 'cifar-10-batches-py'\n",
    "\n",
    "class DLProgress(tqdm):\n",
    "    last_block = 0\n",
    "\n",
    "    def hook(self, block_num=1, block_size=1, total_size=None):\n",
    "        self.total = total_size\n",
    "        self.update((block_num - self.last_block) * block_size)\n",
    "        self.last_block = block_num\n",
    "\n",
    "if not isfile('cifar-10-python.tar.gz'):\n",
    "    with DLProgress(unit='B', unit_scale=True, miniters=1, desc='CIFAR-10 Dataset') as pbar:\n",
    "        urlretrieve(\n",
    "            'https://www.cs.toronto.edu/~kriz/cifar-10-python.tar.gz',\n",
    "            'cifar-10-python.tar.gz',\n",
    "            pbar.hook)\n",
    "\n",
    "if not isdir(cifar10_dataset_folder_path):\n",
    "    with tarfile.open('cifar-10-python.tar.gz') as tar:\n",
    "        tar.extractall()\n",
    "        tar.close()\n",
    "\n",
    "\n",
    "tests.test_folder_path(cifar10_dataset_folder_path)"
   ]
  },
  {
   "cell_type": "markdown",
   "metadata": {
    "deletable": true,
    "editable": true
   },
   "source": [
    "## Explore the Data\n",
    "The dataset is broken into batches to prevent your machine from running out of memory.  The CIFAR-10 dataset consists of 5 batches, named `data_batch_1`, `data_batch_2`, etc.. Each batch contains the labels and images that are one of the following:\n",
    "* airplane\n",
    "* automobile\n",
    "* bird\n",
    "* cat\n",
    "* deer\n",
    "* dog\n",
    "* frog\n",
    "* horse\n",
    "* ship\n",
    "* truck\n",
    "\n",
    "Understanding a dataset is part of making predictions on the data.  Play around with the code cell below by changing the `batch_id` and `sample_id`. The `batch_id` is the id for a batch (1-5). The `sample_id` is the id for a image and label pair in the batch.\n",
    "\n",
    "Ask yourself \"What are all possible labels?\", \"What is the range of values for the image data?\", \"Are the labels in order or random?\".  Answers to questions like these will help you preprocess the data and end up with better predictions."
   ]
  },
  {
   "cell_type": "code",
   "execution_count": 7,
   "metadata": {
    "collapsed": false,
    "deletable": true,
    "editable": true
   },
   "outputs": [
    {
     "name": "stdout",
     "output_type": "stream",
     "text": [
      "\n",
      "Stats of batch 5:\n",
      "Samples: 10000\n",
      "Label Counts: {0: 1014, 1: 1014, 2: 952, 3: 1016, 4: 997, 5: 1025, 6: 980, 7: 977, 8: 1003, 9: 1022}\n",
      "First 20 Labels: [1, 8, 5, 1, 5, 7, 4, 3, 8, 2, 7, 2, 0, 1, 5, 9, 6, 2, 0, 8]\n",
      "\n",
      "Example of Image 500:\n",
      "Image - Min Value: 20 Max Value: 226\n",
      "Image - Shape: (32, 32, 3)\n",
      "Label - Label Id: 8 Name: ship\n"
     ]
    },
    {
     "data": {
      "image/png": "[encoded data removed]",
      "text/plain": [
       "<matplotlib.figure.Figure at 0x7f77e8a1dbe0>"
      ]
     },
     "metadata": {
      "image/png": {
       "height": 250,
       "width": 253
      }
     },
     "output_type": "display_data"
    }
   ],
   "source": [
    "%matplotlib inline\n",
    "%config InlineBackend.figure_format = 'retina'\n",
    "\n",
    "import helper\n",
    "import numpy as np\n",
    "\n",
    "# Explore the dataset\n",
    "batch_id = 5\n",
    "sample_id = 500\n",
    "helper.display_stats(cifar10_dataset_folder_path, batch_id, sample_id)"
   ]
  },
  {
   "cell_type": "markdown",
   "metadata": {
    "deletable": true,
    "editable": true
   },
   "source": [
    "## Implement Preprocess Functions\n",
    "### Normalize\n",
    "In the cell below, implement the `normalize` function to take in image data, `x`, and return it as a normalized Numpy array. The values should be in the range of 0 to 1, inclusive.  The return object should be the same shape as `x`."
   ]
  },
  {
   "cell_type": "code",
   "execution_count": 8,
   "metadata": {
    "collapsed": false,
    "deletable": true,
    "editable": true
   },
   "outputs": [
    {
     "name": "stdout",
     "output_type": "stream",
     "text": [
      "Tests Passed\n"
     ]
    }
   ],
   "source": [
    "def normalize(x):\n",
    "    \"\"\"\n",
    "    Normalize a list of sample image data in the range of 0 to 1\n",
    "    : x: List of image data.  The image shape is (32, 32, 3)\n",
    "    : return: Numpy array of normalize data\n",
    "    \"\"\"\n",
    "    # TODO: Implement Function\n",
    "    return x / 255\n",
    "\n",
    "\n",
    "\"\"\"\n",
    "DON'T MODIFY ANYTHING IN THIS CELL THAT IS BELOW THIS LINE\n",
    "\"\"\"\n",
    "tests.test_normalize(normalize)"
   ]
  },
  {
   "cell_type": "markdown",
   "metadata": {
    "deletable": true,
    "editable": true
   },
   "source": [
    "### One-hot encode\n",
    "Just like the previous code cell, you'll be implementing a function for preprocessing.  This time, you'll implement the `one_hot_encode` function. The input, `x`, are a list of labels.  Implement the function to return the list of labels as One-Hot encoded Numpy array.  The possible values for labels are 0 to 9. The one-hot encoding function should return the same encoding for each value between each call to `one_hot_encode`.  Make sure to save the map of encodings outside the function.\n",
    "\n",
    "Hint: Don't reinvent the wheel."
   ]
  },
  {
   "cell_type": "code",
   "execution_count": 9,
   "metadata": {
    "collapsed": false,
    "deletable": true,
    "editable": true
   },
   "outputs": [
    {
     "name": "stdout",
     "output_type": "stream",
     "text": [
      "Tests Passed\n"
     ]
    }
   ],
   "source": [
    "def one_hot_encode(x):\n",
    "    \"\"\"\n",
    "    One hot encode a list of sample labels. Return a one-hot encoded vector for each label.\n",
    "    : x: List of sample Labels\n",
    "    : return: Numpy array of one-hot encoded labels\n",
    "    \"\"\"\n",
    "    # TODO: Implement Function\n",
    "    one_hots = np.zeros((len(x), 10))\n",
    "    for i, label in enumerate(x):\n",
    "        one_hots[i][label] = 1\n",
    "    return one_hots\n",
    "\n",
    "\"\"\"\n",
    "DON'T MODIFY ANYTHING IN THIS CELL THAT IS BELOW THIS LINE\n",
    "\"\"\"\n",
    "tests.test_one_hot_encode(one_hot_encode)"
   ]
  },
  {
   "cell_type": "markdown",
   "metadata": {
    "deletable": true,
    "editable": true
   },
   "source": [
    "### Randomize Data\n",
    "As you saw from exploring the data above, the order of the samples are randomized.  It doesn't hurt to randomize it again, but you don't need to for this dataset."
   ]
  },
  {
   "cell_type": "markdown",
   "metadata": {
    "deletable": true,
    "editable": true
   },
   "source": [
    "## Preprocess all the data and save it\n",
    "Running the code cell below will preprocess all the CIFAR-10 data and save it to file. The code below also uses 10% of the training data for validation."
   ]
  },
  {
   "cell_type": "code",
   "execution_count": 10,
   "metadata": {
    "collapsed": false,
    "deletable": true,
    "editable": true
   },
   "outputs": [],
   "source": [
    "\"\"\"\n",
    "DON'T MODIFY ANYTHING IN THIS CELL\n",
    "\"\"\"\n",
    "# Preprocess Training, Validation, and Testing Data\n",
    "helper.preprocess_and_save_data(cifar10_dataset_folder_path, normalize, one_hot_encode)"
   ]
  },
  {
   "cell_type": "markdown",
   "metadata": {
    "deletable": true,
    "editable": true
   },
   "source": [
    "# Check Point\n",
    "This is your first checkpoint.  If you ever decide to come back to this notebook or have to restart the notebook, you can start from here.  The preprocessed data has been saved to disk."
   ]
  },
  {
   "cell_type": "code",
   "execution_count": 11,
   "metadata": {
    "collapsed": true,
    "deletable": true,
    "editable": true
   },
   "outputs": [],
   "source": [
    "\"\"\"\n",
    "DON'T MODIFY ANYTHING IN THIS CELL\n",
    "\"\"\"\n",
    "import pickle\n",
    "import problem_unittests as tests\n",
    "import helper\n",
    "\n",
    "# Load the Preprocessed Validation data\n",
    "valid_features, valid_labels = pickle.load(open('preprocess_validation.p', mode='rb'))"
   ]
  },
  {
   "cell_type": "markdown",
   "metadata": {
    "deletable": true,
    "editable": true
   },
   "source": [
    "## Build the network\n",
    "For the neural network, you'll build each layer into a function.  Most of the code you've seen has been outside of functions. To test your code more thoroughly, we require that you put each layer in a function.  This allows us to give you better feedback and test for simple mistakes using our unittests before you submit your project.\n",
    "\n",
    ">**Note:** If you're finding it hard to dedicate enough time for this course each week, we've provided a small shortcut to this part of the project. In the next couple of problems, you'll have the option to use classes from the [TensorFlow Layers](https://www.tensorflow.org/api_docs/python/tf/layers) or [TensorFlow Layers (contrib)](https://www.tensorflow.org/api_guides/python/contrib.layers) packages to build each layer, except the layers you build in the \"Convolutional and Max Pooling Layer\" section.  TF Layers is similar to Keras's and TFLearn's abstraction to layers, so it's easy to pickup.\n",
    "\n",
    ">However, if you would like to get the most out of this course, try to solve all the problems _without_ using anything from the TF Layers packages. You **can** still use classes from other packages that happen to have the same name as ones you find in TF Layers! For example, instead of using the TF Layers version of the `conv2d` class, [tf.layers.conv2d](https://www.tensorflow.org/api_docs/python/tf/layers/conv2d), you would want to use the TF Neural Network version of `conv2d`, [tf.nn.conv2d](https://www.tensorflow.org/api_docs/python/tf/nn/conv2d). \n",
    "\n",
    "Let's begin!\n",
    "\n",
    "### Input\n",
    "The neural network needs to read the image data, one-hot encoded labels, and dropout keep probability. Implement the following functions\n",
    "* Implement `neural_net_image_input`\n",
    " * Return a [TF Placeholder](https://www.tensorflow.org/api_docs/python/tf/placeholder)\n",
    " * Set the shape using `image_shape` with batch size set to `None`.\n",
    " * Name the TensorFlow placeholder \"x\" using the TensorFlow `name` parameter in the [TF Placeholder](https://www.tensorflow.org/api_docs/python/tf/placeholder).\n",
    "* Implement `neural_net_label_input`\n",
    " * Return a [TF Placeholder](https://www.tensorflow.org/api_docs/python/tf/placeholder)\n",
    " * Set the shape using `n_classes` with batch size set to `None`.\n",
    " * Name the TensorFlow placeholder \"y\" using the TensorFlow `name` parameter in the [TF Placeholder](https://www.tensorflow.org/api_docs/python/tf/placeholder).\n",
    "* Implement `neural_net_keep_prob_input`\n",
    " * Return a [TF Placeholder](https://www.tensorflow.org/api_docs/python/tf/placeholder) for dropout keep probability.\n",
    " * Name the TensorFlow placeholder \"keep_prob\" using the TensorFlow `name` parameter in the [TF Placeholder](https://www.tensorflow.org/api_docs/python/tf/placeholder).\n",
    "\n",
    "These names will be used at the end of the project to load your saved model.\n",
    "\n",
    "Note: `None` for shapes in TensorFlow allow for a dynamic size."
   ]
  },
  {
   "cell_type": "code",
   "execution_count": 12,
   "metadata": {
    "collapsed": false,
    "deletable": true,
    "editable": true
   },
   "outputs": [
    {
     "name": "stdout",
     "output_type": "stream",
     "text": [
      "Image Input Tests Passed.\n",
      "Label Input Tests Passed.\n",
      "Keep Prob Tests Passed.\n"
     ]
    }
   ],
   "source": [
    "import tensorflow as tf\n",
    "\n",
    "def neural_net_image_input(image_shape):\n",
    "    \"\"\"\n",
    "    Return a Tensor for a batch of image input\n",
    "    : image_shape: Shape of the images\n",
    "    : return: Tensor for image input.\n",
    "    \"\"\"\n",
    "    # TODO: Implement Function\n",
    "    return tf.placeholder(dtype=tf.float32, shape=(None, *image_shape), name='x')\n",
    "\n",
    "\n",
    "def neural_net_label_input(n_classes):\n",
    "    \"\"\"\n",
    "    Return a Tensor for a batch of label input\n",
    "    : n_classes: Number of classes\n",
    "    : return: Tensor for label input.\n",
    "    \"\"\"\n",
    "    # TODO: Implement Function\n",
    "    return tf.placeholder(dtype=tf.float32, shape=(None, n_classes), name='y')\n",
    "\n",
    "\n",
    "def neural_net_keep_prob_input():\n",
    "    \"\"\"\n",
    "    Return a Tensor for keep probability\n",
    "    : return: Tensor for keep probability.\n",
    "    \"\"\"\n",
    "    # TODO: Implement Function\n",
    "    return tf.placeholder(dtype=tf.float32, name='keep_prob')\n",
    "\n",
    "\n",
    "\"\"\"\n",
    "DON'T MODIFY ANYTHING IN THIS CELL THAT IS BELOW THIS LINE\n",
    "\"\"\"\n",
    "tf.reset_default_graph()\n",
    "tests.test_nn_image_inputs(neural_net_image_input)\n",
    "tests.test_nn_label_inputs(neural_net_label_input)\n",
    "tests.test_nn_keep_prob_inputs(neural_net_keep_prob_input)"
   ]
  },
  {
   "cell_type": "markdown",
   "metadata": {
    "deletable": true,
    "editable": true
   },
   "source": [
    "### Convolution and Max Pooling Layer\n",
    "Convolution layers have a lot of success with images. For this code cell, you should implement the function `conv2d_maxpool` to apply convolution then max pooling:\n",
    "* Create the weight and bias using `conv_ksize`, `conv_num_outputs` and the shape of `x_tensor`.\n",
    "* Apply a convolution to `x_tensor` using weight and `conv_strides`.\n",
    " * We recommend you use same padding, but you're welcome to use any padding.\n",
    "* Add bias\n",
    "* Add a nonlinear activation to the convolution.\n",
    "* Apply Max Pooling using `pool_ksize` and `pool_strides`.\n",
    " * We recommend you use same padding, but you're welcome to use any padding.\n",
    "\n",
    "**Note:** You **can't** use [TensorFlow Layers](https://www.tensorflow.org/api_docs/python/tf/layers) or [TensorFlow Layers (contrib)](https://www.tensorflow.org/api_guides/python/contrib.layers) for **this** layer, but you can still use TensorFlow's [Neural Network](https://www.tensorflow.org/api_docs/python/tf/nn) package. You may still use the shortcut option for all the **other** layers."
   ]
  },
  {
   "cell_type": "code",
   "execution_count": 13,
   "metadata": {
    "collapsed": false,
    "deletable": true,
    "editable": true
   },
   "outputs": [
    {
     "name": "stdout",
     "output_type": "stream",
     "text": [
      "Tests Passed\n"
     ]
    }
   ],
   "source": [
    "def conv2d_maxpool(x_tensor, conv_num_outputs, conv_ksize, conv_strides, pool_ksize, pool_strides):\n",
    "    \"\"\"\n",
    "    Apply convolution then max pooling to x_tensor\n",
    "    :param x_tensor: TensorFlow Tensor\n",
    "    :param conv_num_outputs: Number of outputs for the convolutional layer\n",
    "    :param conv_ksize: kernal size 2-D Tuple for the convolutional layer\n",
    "    :param conv_strides: Stride 2-D Tuple for convolution\n",
    "    :param pool_ksize: kernal size 2-D Tuple for pool\n",
    "    :param pool_strides: Stride 2-D Tuple for pool\n",
    "    : return: A tensor that represents convolution and max pooling of x_tensor\n",
    "    \"\"\"\n",
    "    # TODO: Implement Function\n",
    "    channels = x_tensor.shape[3].value\n",
    "    conv_weights = tf.Variable(tf.truncated_normal((*conv_ksize, channels, conv_num_outputs), stddev=0.1))\n",
    "    conv_bias = tf.Variable(tf.zeros(conv_num_outputs))\n",
    "    \n",
    "    conv_layer = tf.nn.conv2d(x_tensor, conv_weights, strides=(1, *conv_strides, 1), padding='SAME')\n",
    "    conv_layer = tf.nn.bias_add(conv_layer, conv_bias)\n",
    "    conv_layer = tf.nn.relu(conv_layer)\n",
    "    \n",
    "    pool_layer = tf.nn.max_pool(conv_layer, ksize=(1, *pool_ksize, 1), strides=(1, *pool_strides, 1), padding='SAME')\n",
    "    return pool_layer \n",
    "\n",
    "\n",
    "\"\"\"\n",
    "DON'T MODIFY ANYTHING IN THIS CELL THAT IS BELOW THIS LINE\n",
    "\"\"\"\n",
    "tests.test_con_pool(conv2d_maxpool)"
   ]
  },
  {
   "cell_type": "markdown",
   "metadata": {
    "deletable": true,
    "editable": true
   },
   "source": [
    "### Flatten Layer\n",
    "Implement the `flatten` function to change the dimension of `x_tensor` from a 4-D tensor to a 2-D tensor.  The output should be the shape (*Batch Size*, *Flattened Image Size*). Shortcut option: you can use classes from the [TensorFlow Layers](https://www.tensorflow.org/api_docs/python/tf/layers) or [TensorFlow Layers (contrib)](https://www.tensorflow.org/api_guides/python/contrib.layers) packages for this layer. For more of a challenge, only use other TensorFlow packages."
   ]
  },
  {
   "cell_type": "code",
   "execution_count": 14,
   "metadata": {
    "collapsed": false,
    "deletable": true,
    "editable": true
   },
   "outputs": [
    {
     "name": "stdout",
     "output_type": "stream",
     "text": [
      "Tests Passed\n"
     ]
    }
   ],
   "source": [
    "def flatten(x_tensor):\n",
    "    \"\"\"\n",
    "    Flatten x_tensor to (Batch Size, Flattened Image Size)\n",
    "    : x_tensor: A tensor of size (Batch Size, ...), where ... are the image dimensions.\n",
    "    : return: A tensor of size (Batch Size, Flattened Image Size).\n",
    "    \"\"\"\n",
    "    # TODO: Implement Function\n",
    "    shape = x_tensor.shape\n",
    "    flattened_size = shape[1].value*shape[2].value*shape[3].value\n",
    "    return tf.reshape(x_tensor, (-1, flattened_size))\n",
    "\n",
    "\n",
    "\"\"\"\n",
    "DON'T MODIFY ANYTHING IN THIS CELL THAT IS BELOW THIS LINE\n",
    "\"\"\"\n",
    "tests.test_flatten(flatten)"
   ]
  },
  {
   "cell_type": "markdown",
   "metadata": {
    "deletable": true,
    "editable": true
   },
   "source": [
    "### Fully-Connected Layer\n",
    "Implement the `fully_conn` function to apply a fully connected layer to `x_tensor` with the shape (*Batch Size*, *num_outputs*). Shortcut option: you can use classes from the [TensorFlow Layers](https://www.tensorflow.org/api_docs/python/tf/layers) or [TensorFlow Layers (contrib)](https://www.tensorflow.org/api_guides/python/contrib.layers) packages for this layer. For more of a challenge, only use other TensorFlow packages."
   ]
  },
  {
   "cell_type": "code",
   "execution_count": 15,
   "metadata": {
    "collapsed": false,
    "deletable": true,
    "editable": true
   },
   "outputs": [
    {
     "name": "stdout",
     "output_type": "stream",
     "text": [
      "Tests Passed\n"
     ]
    }
   ],
   "source": [
    "def fully_conn(x_tensor, num_outputs):\n",
    "    \"\"\"\n",
    "    Apply a fully connected layer to x_tensor using weight and bias\n",
    "    : x_tensor: A 2-D tensor where the first dimension is batch size.\n",
    "    : num_outputs: The number of output that the new tensor should be.\n",
    "    : return: A 2-D tensor where the second dimension is num_outputs.\n",
    "    \"\"\"\n",
    "    # TODO: Implement Function\n",
    "    weights_size = (x_tensor.shape[1].value, num_outputs)\n",
    "    weights = tf.Variable(tf.truncated_normal(weights_size, stddev=0.1))\n",
    "    \n",
    "    full_layer = tf.matmul(x_tensor, weights)\n",
    "    full_layer = tf.nn.relu(full_layer)\n",
    "    return full_layer\n",
    "\n",
    "\n",
    "\"\"\"\n",
    "DON'T MODIFY ANYTHING IN THIS CELL THAT IS BELOW THIS LINE\n",
    "\"\"\"\n",
    "tests.test_fully_conn(fully_conn)"
   ]
  },
  {
   "cell_type": "markdown",
   "metadata": {
    "deletable": true,
    "editable": true
   },
   "source": [
    "### Output Layer\n",
    "Implement the `output` function to apply a fully connected layer to `x_tensor` with the shape (*Batch Size*, *num_outputs*). Shortcut option: you can use classes from the [TensorFlow Layers](https://www.tensorflow.org/api_docs/python/tf/layers) or [TensorFlow Layers (contrib)](https://www.tensorflow.org/api_guides/python/contrib.layers) packages for this layer. For more of a challenge, only use other TensorFlow packages.\n",
    "\n",
    "**Note:** Activation, softmax, or cross entropy should **not** be applied to this."
   ]
  },
  {
   "cell_type": "code",
   "execution_count": 16,
   "metadata": {
    "collapsed": false,
    "deletable": true,
    "editable": true
   },
   "outputs": [
    {
     "name": "stdout",
     "output_type": "stream",
     "text": [
      "Tests Passed\n"
     ]
    }
   ],
   "source": [
    "def output(x_tensor, num_outputs):\n",
    "    \"\"\"\n",
    "    Apply a output layer to x_tensor using weight and bias\n",
    "    : x_tensor: A 2-D tensor where the first dimension is batch size.\n",
    "    : num_outputs: The number of output that the new tensor should be.\n",
    "    : return: A 2-D tensor where the second dimension is num_outputs.\n",
    "    \"\"\"\n",
    "    # TODO: Implement Function\n",
    "    weights_size = (x_tensor.shape[1].value, num_outputs)\n",
    "    weights = tf.Variable(tf.truncated_normal(weights_size, stddev=0.1))\n",
    "    \n",
    "    return tf.matmul(x_tensor, weights)\n",
    "\n",
    "\n",
    "\"\"\"\n",
    "DON'T MODIFY ANYTHING IN THIS CELL THAT IS BELOW THIS LINE\n",
    "\"\"\"\n",
    "tests.test_output(output)"
   ]
  },
  {
   "cell_type": "markdown",
   "metadata": {
    "deletable": true,
    "editable": true
   },
   "source": [
    "### Create Convolutional Model\n",
    "Implement the function `conv_net` to create a convolutional neural network model. The function takes in a batch of images, `x`, and outputs logits.  Use the layers you created above to create this model:\n",
    "\n",
    "* Apply 1, 2, or 3 Convolution and Max Pool layers\n",
    "* Apply a Flatten Layer\n",
    "* Apply 1, 2, or 3 Fully Connected Layers\n",
    "* Apply an Output Layer\n",
    "* Return the output\n",
    "* Apply [TensorFlow's Dropout](https://www.tensorflow.org/api_docs/python/tf/nn/dropout) to one or more layers in the model using `keep_prob`. "
   ]
  },
  {
   "cell_type": "code",
   "execution_count": 34,
   "metadata": {
    "collapsed": false,
    "deletable": true,
    "editable": true
   },
   "outputs": [
    {
     "name": "stdout",
     "output_type": "stream",
     "text": [
      "Neural Network Built!\n"
     ]
    }
   ],
   "source": [
    "def conv_net(x, keep_prob):\n",
    "    \"\"\"\n",
    "    Create a convolutional neural network model\n",
    "    : x: Placeholder tensor that holds image data.\n",
    "    : keep_prob: Placeholder tensor that hold dropout keep probability.\n",
    "    : return: Tensor that represents logits\n",
    "    \"\"\"\n",
    "    # TODO: Apply 1, 2, or 3 Convolution and Max Pool layers\n",
    "    #    Play around with different number of outputs, kernel size and stride\n",
    "    # Function Definition from Above:\n",
    "    #    conv2d_maxpool(x_tensor, conv_num_outputs, conv_ksize, conv_strides, pool_ksize, pool_strides)\n",
    "    \n",
    "    net = conv2d_maxpool(x, conv_num_outputs=32, conv_ksize=(3,3), \n",
    "                         conv_strides=(1,1), pool_ksize=(2,2), pool_strides=(2,2))\n",
    "    \n",
    "    net = conv2d_maxpool(x, conv_num_outputs=64, conv_ksize=(3,3), \n",
    "                         conv_strides=(1,1), pool_ksize=(2,2), pool_strides=(2,2))\n",
    "    \n",
    "    net = conv2d_maxpool(x, conv_num_outputs=128, conv_ksize=(3,3), \n",
    "                         conv_strides=(1,1), pool_ksize=(2,2), pool_strides=(2,2))\n",
    "\n",
    "    # TODO: Apply a Flatten Layer\n",
    "    # Function Definition from Above:\n",
    "    #   flatten(x_tensor)\n",
    "    \n",
    "    net = flatten(net)\n",
    "\n",
    "    # TODO: Apply 1, 2, or 3 Fully Connected Layers\n",
    "    #    Play around with different number of outputs\n",
    "    # Function Definition from Above:\n",
    "    #   fully_conn(x_tensor, num_outputs)\n",
    "    \n",
    "    net = fully_conn(net, 200)\n",
    "    net = tf.nn.dropout(net, keep_prob=keep_prob)\n",
    "\n",
    "    # TODO: Apply an Output Layer\n",
    "    #    Set this to the number of classes\n",
    "    # Function Definition from Above:\n",
    "    #   output(x_tensor, num_outputs)\n",
    "    \n",
    "    net = output(net, 10)\n",
    "    # TODO: return output\n",
    "    return net\n",
    "\n",
    "\n",
    "\"\"\"\n",
    "DON'T MODIFY ANYTHING IN THIS CELL THAT IS BELOW THIS LINE\n",
    "\"\"\"\n",
    "\n",
    "##############################\n",
    "## Build the Neural Network ##\n",
    "##############################\n",
    "\n",
    "# Remove previous weights, bias, inputs, etc..\n",
    "tf.reset_default_graph()\n",
    "\n",
    "# Inputs\n",
    "x = neural_net_image_input((32, 32, 3))\n",
    "y = neural_net_label_input(10)\n",
    "keep_prob = neural_net_keep_prob_input()\n",
    "\n",
    "# Model\n",
    "logits = conv_net(x, keep_prob)\n",
    "\n",
    "# Name logits Tensor, so that is can be loaded from disk after training\n",
    "logits = tf.identity(logits, name='logits')\n",
    "\n",
    "# Loss and Optimizer\n",
    "cost = tf.reduce_mean(tf.nn.softmax_cross_entropy_with_logits(logits=logits, labels=y))\n",
    "optimizer = tf.train.AdamOptimizer().minimize(cost)\n",
    "\n",
    "# Accuracy\n",
    "correct_pred = tf.equal(tf.argmax(logits, 1), tf.argmax(y, 1))\n",
    "accuracy = tf.reduce_mean(tf.cast(correct_pred, tf.float32), name='accuracy')\n",
    "tf.summary.scalar('cost', cost)\n",
    "tf.summary.scalar('accuracy', accuracy)\n",
    "merged = tf.summary.merge_all()\n",
    "\n",
    "tests.test_conv_net(conv_net)"
   ]
  },
  {
   "cell_type": "markdown",
   "metadata": {
    "deletable": true,
    "editable": true
   },
   "source": [
    "## Train the Neural Network\n",
    "### Single Optimization\n",
    "Implement the function `train_neural_network` to do a single optimization.  The optimization should use `optimizer` to optimize in `session` with a `feed_dict` of the following:\n",
    "* `x` for image input\n",
    "* `y` for labels\n",
    "* `keep_prob` for keep probability for dropout\n",
    "\n",
    "This function will be called for each batch, so `tf.global_variables_initializer()` has already been called.\n",
    "\n",
    "Note: Nothing needs to be returned. This function is only optimizing the neural network."
   ]
  },
  {
   "cell_type": "code",
   "execution_count": 35,
   "metadata": {
    "collapsed": false,
    "deletable": true,
    "editable": true
   },
   "outputs": [
    {
     "name": "stdout",
     "output_type": "stream",
     "text": [
      "Tests Passed\n"
     ]
    }
   ],
   "source": [
    "def train_neural_network(session, optimizer, keep_probability, feature_batch, label_batch):\n",
    "    \"\"\"\n",
    "    Optimize the session on a batch of images and labels\n",
    "    : session: Current TensorFlow session\n",
    "    : optimizer: TensorFlow optimizer function\n",
    "    : keep_probability: keep probability\n",
    "    : feature_batch: Batch of Numpy image data\n",
    "    : label_batch: Batch of Numpy label data\n",
    "    \"\"\"\n",
    "    # TODO: Implement Function\n",
    "    session.run(optimizer, feed_dict={keep_prob:keep_probability, x:feature_batch, y:label_batch})\n",
    "    pass\n",
    "\n",
    "\n",
    "\"\"\"\n",
    "DON'T MODIFY ANYTHING IN THIS CELL THAT IS BELOW THIS LINE\n",
    "\"\"\"\n",
    "tests.test_train_nn(train_neural_network)"
   ]
  },
  {
   "cell_type": "markdown",
   "metadata": {
    "deletable": true,
    "editable": true
   },
   "source": [
    "### Show Stats\n",
    "Implement the function `print_stats` to print loss and validation accuracy.  Use the global variables `valid_features` and `valid_labels` to calculate validation accuracy.  Use a keep probability of `1.0` to calculate the loss and validation accuracy."
   ]
  },
  {
   "cell_type": "code",
   "execution_count": 36,
   "metadata": {
    "collapsed": false,
    "deletable": true,
    "editable": true
   },
   "outputs": [],
   "source": [
    "def print_stats(session, summary_writer, count, feature_batch, label_batch, cost, accuracy):\n",
    "    \"\"\"\n",
    "    Print information about loss and validation accuracy\n",
    "    : session: Current TensorFlow session\n",
    "    : feature_batch: Batch of Numpy image data\n",
    "    : label_batch: Batch of Numpy label data\n",
    "    : cost: TensorFlow cost function\n",
    "    : accuracy: TensorFlow accuracy function\n",
    "    \"\"\"\n",
    "    # TODO: Implement Function\n",
    "    cost, accuracy, summary = session.run([cost,accuracy, merged], feed_dict={keep_prob:keep_probability, x:feature_batch, y:label_batch})\n",
    "    print(\"cost: %s; accuracy: %s\" % (cost, accuracy))\n",
    "    summary_writer.add_summary(summary, count)\n",
    "    pass"
   ]
  },
  {
   "cell_type": "markdown",
   "metadata": {
    "deletable": true,
    "editable": true
   },
   "source": [
    "### Hyperparameters\n",
    "Tune the following parameters:\n",
    "* Set `epochs` to the number of iterations until the network stops learning or start overfitting\n",
    "* Set `batch_size` to the highest number that your machine has memory for.  Most people set them to common sizes of memory:\n",
    " * 64\n",
    " * 128\n",
    " * 256\n",
    " * ...\n",
    "* Set `keep_probability` to the probability of keeping a node using dropout"
   ]
  },
  {
   "cell_type": "code",
   "execution_count": 37,
   "metadata": {
    "collapsed": true,
    "deletable": true,
    "editable": true
   },
   "outputs": [],
   "source": [
    "# TODO: Tune Parameters\n",
    "epochs = 35\n",
    "batch_size = 256\n",
    "keep_probability = 0.5"
   ]
  },
  {
   "cell_type": "markdown",
   "metadata": {
    "deletable": true,
    "editable": true
   },
   "source": [
    "### Train on a Single CIFAR-10 Batch\n",
    "Instead of training the neural network on all the CIFAR-10 batches of data, let's use a single batch. This should save time while you iterate on the model to get a better accuracy.  Once the final validation accuracy is 50% or greater, run the model on all the data in the next section."
   ]
  },
  {
   "cell_type": "code",
   "execution_count": 27,
   "metadata": {
    "collapsed": false,
    "deletable": true,
    "editable": true,
    "scrolled": false
   },
   "outputs": [
    {
     "name": "stdout",
     "output_type": "stream",
     "text": [
      "Checking the Training on a Single Batch...\n",
      "Epoch  1, CIFAR-10 Batch 1:  cost: 2.09094; accuracy: 0.325\n",
      "Epoch  2, CIFAR-10 Batch 1:  cost: 2.16487; accuracy: 0.3\n",
      "Epoch  3, CIFAR-10 Batch 1:  cost: 1.75296; accuracy: 0.375\n",
      "Epoch  4, CIFAR-10 Batch 1:  cost: 1.57961; accuracy: 0.45\n",
      "Epoch  5, CIFAR-10 Batch 1:  cost: 1.53686; accuracy: 0.45\n",
      "Epoch  6, CIFAR-10 Batch 1:  cost: 1.33486; accuracy: 0.525\n",
      "Epoch  7, CIFAR-10 Batch 1:  cost: 1.26701; accuracy: 0.55\n",
      "Epoch  8, CIFAR-10 Batch 1:  cost: 1.08896; accuracy: 0.6\n",
      "Epoch  9, CIFAR-10 Batch 1:  cost: 1.18424; accuracy: 0.525\n",
      "Epoch 10, CIFAR-10 Batch 1:  cost: 1.04293; accuracy: 0.6\n",
      "Epoch 11, CIFAR-10 Batch 1:  cost: 0.957387; accuracy: 0.775\n",
      "Epoch 12, CIFAR-10 Batch 1:  cost: 0.787701; accuracy: 0.7\n",
      "Epoch 13, CIFAR-10 Batch 1:  cost: 0.988679; accuracy: 0.7\n",
      "Epoch 14, CIFAR-10 Batch 1:  cost: 0.826757; accuracy: 0.65\n",
      "Epoch 15, CIFAR-10 Batch 1:  cost: 0.71045; accuracy: 0.8\n",
      "Epoch 16, CIFAR-10 Batch 1:  cost: 0.746887; accuracy: 0.775\n",
      "Epoch 17, CIFAR-10 Batch 1:  cost: 0.521153; accuracy: 0.85\n",
      "Epoch 18, CIFAR-10 Batch 1:  cost: 0.740975; accuracy: 0.725\n",
      "Epoch 19, CIFAR-10 Batch 1:  cost: 0.410438; accuracy: 0.925\n",
      "Epoch 20, CIFAR-10 Batch 1:  cost: 0.634226; accuracy: 0.775\n"
     ]
    }
   ],
   "source": [
    "\"\"\"\n",
    "DON'T MODIFY ANYTHING IN THIS CELL\n",
    "\"\"\"\n",
    "print('Checking the Training on a Single Batch...')\n",
    "with tf.Session() as sess:\n",
    "    summary_writer = tf.summary.FileWriter('logs/single', sess.graph)\n",
    "    # Initializing the variables\n",
    "    sess.run(tf.global_variables_initializer())\n",
    "    \n",
    "    count = 0\n",
    "    # Training cycle\n",
    "    for epoch in range(epochs):\n",
    "        batch_i = 1\n",
    "        for batch_features, batch_labels in helper.load_preprocess_training_batch(batch_i, batch_size):\n",
    "            train_neural_network(sess, optimizer, keep_probability, batch_features, batch_labels)\n",
    "        print('Epoch {:>2}, CIFAR-10 Batch {}:  '.format(epoch + 1, batch_i), end='')\n",
    "        print_stats(sess, summary_writer, count, batch_features, batch_labels, cost, accuracy)\n",
    "        count += 1"
   ]
  },
  {
   "cell_type": "markdown",
   "metadata": {
    "deletable": true,
    "editable": true
   },
   "source": [
    "### Fully Train the Model\n",
    "Now that you got a good accuracy with a single CIFAR-10 batch, try it with all five batches."
   ]
  },
  {
   "cell_type": "code",
   "execution_count": 38,
   "metadata": {
    "collapsed": false,
    "deletable": true,
    "editable": true,
    "scrolled": false
   },
   "outputs": [
    {
     "name": "stdout",
     "output_type": "stream",
     "text": [
      "Training...\n",
      "Epoch  1, CIFAR-10 Batch 1:  cost: 2.33745; accuracy: 0.1\n",
      "Epoch  1, CIFAR-10 Batch 2:  cost: 2.11203; accuracy: 0.225\n",
      "Epoch  1, CIFAR-10 Batch 3:  cost: 1.97997; accuracy: 0.275\n",
      "Epoch  1, CIFAR-10 Batch 4:  cost: 2.05767; accuracy: 0.2\n",
      "Epoch  1, CIFAR-10 Batch 5:  cost: 2.07292; accuracy: 0.25\n",
      "Epoch  2, CIFAR-10 Batch 1:  cost: 2.20209; accuracy: 0.2\n",
      "Epoch  2, CIFAR-10 Batch 2:  cost: 2.02174; accuracy: 0.225\n",
      "Epoch  2, CIFAR-10 Batch 3:  cost: 1.75984; accuracy: 0.35\n",
      "Epoch  2, CIFAR-10 Batch 4:  cost: 1.79948; accuracy: 0.3\n",
      "Epoch  2, CIFAR-10 Batch 5:  cost: 1.63118; accuracy: 0.375\n",
      "Epoch  3, CIFAR-10 Batch 1:  cost: 1.97783; accuracy: 0.275\n",
      "Epoch  3, CIFAR-10 Batch 2:  cost: 1.6352; accuracy: 0.325\n",
      "Epoch  3, CIFAR-10 Batch 3:  cost: 1.43821; accuracy: 0.4\n",
      "Epoch  3, CIFAR-10 Batch 4:  cost: 1.56827; accuracy: 0.475\n",
      "Epoch  3, CIFAR-10 Batch 5:  cost: 1.5234; accuracy: 0.35\n",
      "Epoch  4, CIFAR-10 Batch 1:  cost: 1.63487; accuracy: 0.475\n",
      "Epoch  4, CIFAR-10 Batch 2:  cost: 1.42179; accuracy: 0.425\n",
      "Epoch  4, CIFAR-10 Batch 3:  cost: 1.38694; accuracy: 0.425\n",
      "Epoch  4, CIFAR-10 Batch 4:  cost: 1.42378; accuracy: 0.425\n",
      "Epoch  4, CIFAR-10 Batch 5:  cost: 1.42592; accuracy: 0.325\n",
      "Epoch  5, CIFAR-10 Batch 1:  cost: 1.58476; accuracy: 0.425\n",
      "Epoch  5, CIFAR-10 Batch 2:  cost: 1.36701; accuracy: 0.475\n",
      "Epoch  5, CIFAR-10 Batch 3:  cost: 1.3877; accuracy: 0.6\n",
      "Epoch  5, CIFAR-10 Batch 4:  cost: 1.43007; accuracy: 0.5\n",
      "Epoch  5, CIFAR-10 Batch 5:  cost: 1.34688; accuracy: 0.475\n",
      "Epoch  6, CIFAR-10 Batch 1:  cost: 1.36613; accuracy: 0.4\n",
      "Epoch  6, CIFAR-10 Batch 2:  cost: 1.18585; accuracy: 0.55\n",
      "Epoch  6, CIFAR-10 Batch 3:  cost: 1.27701; accuracy: 0.45\n",
      "Epoch  6, CIFAR-10 Batch 4:  cost: 1.23532; accuracy: 0.55\n",
      "Epoch  6, CIFAR-10 Batch 5:  cost: 1.42941; accuracy: 0.45\n",
      "Epoch  7, CIFAR-10 Batch 1:  cost: 1.34464; accuracy: 0.5\n",
      "Epoch  7, CIFAR-10 Batch 2:  cost: 1.1415; accuracy: 0.625\n",
      "Epoch  7, CIFAR-10 Batch 3:  cost: 1.1445; accuracy: 0.575\n",
      "Epoch  7, CIFAR-10 Batch 4:  cost: 1.1615; accuracy: 0.625\n",
      "Epoch  7, CIFAR-10 Batch 5:  cost: 1.22067; accuracy: 0.6\n",
      "Epoch  8, CIFAR-10 Batch 1:  cost: 1.18356; accuracy: 0.5\n",
      "Epoch  8, CIFAR-10 Batch 2:  cost: 1.15922; accuracy: 0.475\n",
      "Epoch  8, CIFAR-10 Batch 3:  cost: 0.956747; accuracy: 0.575\n",
      "Epoch  8, CIFAR-10 Batch 4:  cost: 1.32657; accuracy: 0.5\n",
      "Epoch  8, CIFAR-10 Batch 5:  cost: 1.21216; accuracy: 0.575\n",
      "Epoch  9, CIFAR-10 Batch 1:  cost: 1.18595; accuracy: 0.525\n",
      "Epoch  9, CIFAR-10 Batch 2:  cost: 0.880304; accuracy: 0.7\n",
      "Epoch  9, CIFAR-10 Batch 3:  cost: 0.930171; accuracy: 0.65\n",
      "Epoch  9, CIFAR-10 Batch 4:  cost: 1.0539; accuracy: 0.675\n",
      "Epoch  9, CIFAR-10 Batch 5:  cost: 1.06808; accuracy: 0.6\n",
      "Epoch 10, CIFAR-10 Batch 1:  cost: 1.1386; accuracy: 0.575\n",
      "Epoch 10, CIFAR-10 Batch 2:  cost: 0.872068; accuracy: 0.725\n",
      "Epoch 10, CIFAR-10 Batch 3:  cost: 0.893859; accuracy: 0.6\n",
      "Epoch 10, CIFAR-10 Batch 4:  cost: 0.791722; accuracy: 0.75\n",
      "Epoch 10, CIFAR-10 Batch 5:  cost: 0.828124; accuracy: 0.775\n",
      "Epoch 11, CIFAR-10 Batch 1:  cost: 1.05504; accuracy: 0.7\n",
      "Epoch 11, CIFAR-10 Batch 2:  cost: 0.711417; accuracy: 0.7\n",
      "Epoch 11, CIFAR-10 Batch 3:  cost: 0.966331; accuracy: 0.625\n",
      "Epoch 11, CIFAR-10 Batch 4:  cost: 0.944989; accuracy: 0.675\n",
      "Epoch 11, CIFAR-10 Batch 5:  cost: 0.823621; accuracy: 0.725\n",
      "Epoch 12, CIFAR-10 Batch 1:  cost: 0.93458; accuracy: 0.7\n",
      "Epoch 12, CIFAR-10 Batch 2:  cost: 0.582818; accuracy: 0.85\n",
      "Epoch 12, CIFAR-10 Batch 3:  cost: 0.753742; accuracy: 0.7\n",
      "Epoch 12, CIFAR-10 Batch 4:  cost: 0.900578; accuracy: 0.675\n",
      "Epoch 12, CIFAR-10 Batch 5:  cost: 0.821105; accuracy: 0.8\n",
      "Epoch 13, CIFAR-10 Batch 1:  cost: 0.742271; accuracy: 0.7\n",
      "Epoch 13, CIFAR-10 Batch 2:  cost: 0.662357; accuracy: 0.75\n",
      "Epoch 13, CIFAR-10 Batch 3:  cost: 0.70649; accuracy: 0.725\n",
      "Epoch 13, CIFAR-10 Batch 4:  cost: 0.755054; accuracy: 0.7\n",
      "Epoch 13, CIFAR-10 Batch 5:  cost: 0.67255; accuracy: 0.8\n",
      "Epoch 14, CIFAR-10 Batch 1:  cost: 0.854012; accuracy: 0.725\n",
      "Epoch 14, CIFAR-10 Batch 2:  cost: 0.533901; accuracy: 0.8\n",
      "Epoch 14, CIFAR-10 Batch 3:  cost: 0.652906; accuracy: 0.8\n",
      "Epoch 14, CIFAR-10 Batch 4:  cost: 0.634917; accuracy: 0.8\n",
      "Epoch 14, CIFAR-10 Batch 5:  cost: 0.703128; accuracy: 0.825\n",
      "Epoch 15, CIFAR-10 Batch 1:  cost: 0.842931; accuracy: 0.65\n",
      "Epoch 15, CIFAR-10 Batch 2:  cost: 0.572116; accuracy: 0.85\n",
      "Epoch 15, CIFAR-10 Batch 3:  cost: 0.571518; accuracy: 0.8\n",
      "Epoch 15, CIFAR-10 Batch 4:  cost: 0.665195; accuracy: 0.8\n",
      "Epoch 15, CIFAR-10 Batch 5:  cost: 0.584253; accuracy: 0.775\n",
      "Epoch 16, CIFAR-10 Batch 1:  cost: 0.766181; accuracy: 0.65\n",
      "Epoch 16, CIFAR-10 Batch 2:  cost: 0.524223; accuracy: 0.875\n",
      "Epoch 16, CIFAR-10 Batch 3:  cost: 0.616881; accuracy: 0.85\n",
      "Epoch 16, CIFAR-10 Batch 4:  cost: 0.567318; accuracy: 0.875\n",
      "Epoch 16, CIFAR-10 Batch 5:  cost: 0.64045; accuracy: 0.825\n",
      "Epoch 17, CIFAR-10 Batch 1:  cost: 0.621259; accuracy: 0.8\n",
      "Epoch 17, CIFAR-10 Batch 2:  cost: 0.393057; accuracy: 0.925\n",
      "Epoch 17, CIFAR-10 Batch 3:  cost: 0.575528; accuracy: 0.8\n",
      "Epoch 17, CIFAR-10 Batch 4:  cost: 0.525952; accuracy: 0.85\n",
      "Epoch 17, CIFAR-10 Batch 5:  cost: 0.605245; accuracy: 0.775\n",
      "Epoch 18, CIFAR-10 Batch 1:  cost: 0.624464; accuracy: 0.675\n",
      "Epoch 18, CIFAR-10 Batch 2:  cost: 0.514002; accuracy: 0.8\n",
      "Epoch 18, CIFAR-10 Batch 3:  cost: 0.360826; accuracy: 0.925\n",
      "Epoch 18, CIFAR-10 Batch 4:  cost: 0.551044; accuracy: 0.85\n",
      "Epoch 18, CIFAR-10 Batch 5:  cost: 0.568288; accuracy: 0.85\n",
      "Epoch 19, CIFAR-10 Batch 1:  cost: 0.577062; accuracy: 0.75\n",
      "Epoch 19, CIFAR-10 Batch 2:  cost: 0.379449; accuracy: 0.95\n",
      "Epoch 19, CIFAR-10 Batch 3:  cost: 0.583947; accuracy: 0.75\n",
      "Epoch 19, CIFAR-10 Batch 4:  cost: 0.561972; accuracy: 0.825\n",
      "Epoch 19, CIFAR-10 Batch 5:  cost: 0.628125; accuracy: 0.8\n",
      "Epoch 20, CIFAR-10 Batch 1:  cost: 0.592109; accuracy: 0.825\n",
      "Epoch 20, CIFAR-10 Batch 2:  cost: 0.361751; accuracy: 0.9\n",
      "Epoch 20, CIFAR-10 Batch 3:  cost: 0.420964; accuracy: 0.925\n",
      "Epoch 20, CIFAR-10 Batch 4:  cost: 0.508741; accuracy: 0.85\n",
      "Epoch 20, CIFAR-10 Batch 5:  cost: 0.434923; accuracy: 0.9\n",
      "Epoch 21, CIFAR-10 Batch 1:  cost: 0.458291; accuracy: 0.85\n",
      "Epoch 21, CIFAR-10 Batch 2:  cost: 0.266545; accuracy: 0.95\n",
      "Epoch 21, CIFAR-10 Batch 3:  cost: 0.511322; accuracy: 0.9\n",
      "Epoch 21, CIFAR-10 Batch 4:  cost: 0.30794; accuracy: 0.975\n",
      "Epoch 21, CIFAR-10 Batch 5:  cost: 0.481435; accuracy: 0.875\n",
      "Epoch 22, CIFAR-10 Batch 1:  cost: 0.453505; accuracy: 0.85\n",
      "Epoch 22, CIFAR-10 Batch 2:  cost: 0.403557; accuracy: 0.9\n",
      "Epoch 22, CIFAR-10 Batch 3:  cost: 0.289643; accuracy: 0.925\n",
      "Epoch 22, CIFAR-10 Batch 4:  cost: 0.54435; accuracy: 0.775\n",
      "Epoch 22, CIFAR-10 Batch 5:  cost: 0.632536; accuracy: 0.7\n",
      "Epoch 23, CIFAR-10 Batch 1:  cost: 0.394386; accuracy: 0.875\n",
      "Epoch 23, CIFAR-10 Batch 2:  cost: 0.514529; accuracy: 0.825\n",
      "Epoch 23, CIFAR-10 Batch 3:  cost: 0.417778; accuracy: 0.85\n",
      "Epoch 23, CIFAR-10 Batch 4:  cost: 0.326853; accuracy: 0.925\n",
      "Epoch 23, CIFAR-10 Batch 5:  cost: 0.421556; accuracy: 0.85\n",
      "Epoch 24, CIFAR-10 Batch 1:  cost: 0.436565; accuracy: 0.875\n",
      "Epoch 24, CIFAR-10 Batch 2:  cost: 0.332521; accuracy: 0.875\n",
      "Epoch 24, CIFAR-10 Batch 3:  cost: 0.449129; accuracy: 0.825\n",
      "Epoch 24, CIFAR-10 Batch 4:  cost: 0.362453; accuracy: 0.85\n",
      "Epoch 24, CIFAR-10 Batch 5:  cost: 0.383865; accuracy: 0.825\n",
      "Epoch 25, CIFAR-10 Batch 1:  cost: 0.457841; accuracy: 0.85\n",
      "Epoch 25, CIFAR-10 Batch 2:  cost: 0.396057; accuracy: 0.85\n",
      "Epoch 25, CIFAR-10 Batch 3:  cost: 0.297468; accuracy: 0.925\n",
      "Epoch 25, CIFAR-10 Batch 4:  cost: 0.245542; accuracy: 0.975\n",
      "Epoch 25, CIFAR-10 Batch 5:  cost: 0.403251; accuracy: 0.85\n",
      "Epoch 26, CIFAR-10 Batch 1:  cost: 0.429268; accuracy: 0.825\n",
      "Epoch 26, CIFAR-10 Batch 2:  cost: 0.465652; accuracy: 0.825\n",
      "Epoch 26, CIFAR-10 Batch 3:  cost: 0.214131; accuracy: 1.0\n",
      "Epoch 26, CIFAR-10 Batch 4:  cost: 0.246205; accuracy: 0.95\n",
      "Epoch 26, CIFAR-10 Batch 5:  cost: 0.230863; accuracy: 0.95\n",
      "Epoch 27, CIFAR-10 Batch 1:  cost: 0.476859; accuracy: 0.8\n",
      "Epoch 27, CIFAR-10 Batch 2:  cost: 0.320174; accuracy: 0.9\n",
      "Epoch 27, CIFAR-10 Batch 3:  cost: 0.355497; accuracy: 0.925\n",
      "Epoch 27, CIFAR-10 Batch 4:  cost: 0.355986; accuracy: 0.925\n",
      "Epoch 27, CIFAR-10 Batch 5:  cost: 0.374049; accuracy: 0.875\n",
      "Epoch 28, CIFAR-10 Batch 1:  cost: 0.316627; accuracy: 0.9\n",
      "Epoch 28, CIFAR-10 Batch 2:  cost: 0.418182; accuracy: 0.9\n",
      "Epoch 28, CIFAR-10 Batch 3:  cost: 0.319468; accuracy: 0.9\n",
      "Epoch 28, CIFAR-10 Batch 4:  cost: 0.263789; accuracy: 0.95\n",
      "Epoch 28, CIFAR-10 Batch 5:  cost: 0.326693; accuracy: 0.85\n",
      "Epoch 29, CIFAR-10 Batch 1:  cost: 0.299636; accuracy: 0.875\n",
      "Epoch 29, CIFAR-10 Batch 2:  cost: 0.210567; accuracy: 1.0\n",
      "Epoch 29, CIFAR-10 Batch 3:  cost: 0.228277; accuracy: 0.975\n",
      "Epoch 29, CIFAR-10 Batch 4:  cost: 0.260247; accuracy: 0.925\n",
      "Epoch 29, CIFAR-10 Batch 5:  cost: 0.420262; accuracy: 0.825\n",
      "Epoch 30, CIFAR-10 Batch 1:  cost: 0.440603; accuracy: 0.825\n",
      "Epoch 30, CIFAR-10 Batch 2:  cost: 0.333869; accuracy: 0.9\n",
      "Epoch 30, CIFAR-10 Batch 3:  cost: 0.283723; accuracy: 0.925\n",
      "Epoch 30, CIFAR-10 Batch 4:  cost: 0.305234; accuracy: 0.9\n",
      "Epoch 30, CIFAR-10 Batch 5:  cost: 0.301853; accuracy: 0.9\n",
      "Epoch 31, CIFAR-10 Batch 1:  cost: 0.362859; accuracy: 0.925\n",
      "Epoch 31, CIFAR-10 Batch 2:  cost: 0.213362; accuracy: 0.95\n",
      "Epoch 31, CIFAR-10 Batch 3:  cost: 0.190429; accuracy: 0.975\n",
      "Epoch 31, CIFAR-10 Batch 4:  cost: 0.31118; accuracy: 0.925\n",
      "Epoch 31, CIFAR-10 Batch 5:  cost: 0.258402; accuracy: 0.9\n",
      "Epoch 32, CIFAR-10 Batch 1:  cost: 0.255062; accuracy: 0.9\n",
      "Epoch 32, CIFAR-10 Batch 2:  cost: 0.29341; accuracy: 0.9\n",
      "Epoch 32, CIFAR-10 Batch 3:  cost: 0.217749; accuracy: 0.95\n",
      "Epoch 32, CIFAR-10 Batch 4:  cost: 0.156189; accuracy: 0.925\n",
      "Epoch 32, CIFAR-10 Batch 5:  cost: 0.387995; accuracy: 0.9\n",
      "Epoch 33, CIFAR-10 Batch 1:  cost: 0.300133; accuracy: 0.925\n",
      "Epoch 33, CIFAR-10 Batch 2:  cost: 0.316337; accuracy: 0.9\n",
      "Epoch 33, CIFAR-10 Batch 3:  cost: 0.258413; accuracy: 0.925\n",
      "Epoch 33, CIFAR-10 Batch 4:  cost: 0.196745; accuracy: 0.975\n",
      "Epoch 33, CIFAR-10 Batch 5:  cost: 0.27895; accuracy: 0.925\n",
      "Epoch 34, CIFAR-10 Batch 1:  cost: 0.324602; accuracy: 0.875\n",
      "Epoch 34, CIFAR-10 Batch 2:  cost: 0.206849; accuracy: 0.95\n",
      "Epoch 34, CIFAR-10 Batch 3:  cost: 0.239968; accuracy: 0.95\n",
      "Epoch 34, CIFAR-10 Batch 4:  cost: 0.211431; accuracy: 0.925\n",
      "Epoch 34, CIFAR-10 Batch 5:  cost: 0.333265; accuracy: 0.925\n",
      "Epoch 35, CIFAR-10 Batch 1:  cost: 0.315493; accuracy: 0.825\n",
      "Epoch 35, CIFAR-10 Batch 2:  cost: 0.274937; accuracy: 0.9\n",
      "Epoch 35, CIFAR-10 Batch 3:  cost: 0.207576; accuracy: 0.975\n",
      "Epoch 35, CIFAR-10 Batch 4:  cost: 0.170829; accuracy: 1.0\n",
      "Epoch 35, CIFAR-10 Batch 5:  cost: 0.212254; accuracy: 0.925\n"
     ]
    }
   ],
   "source": [
    "\"\"\"\n",
    "DON'T MODIFY ANYTHING IN THIS CELL\n",
    "\"\"\"\n",
    "save_model_path = './image_classification'\n",
    "print('Training...')\n",
    "with tf.Session() as sess:\n",
    "    summary_writer = tf.summary.FileWriter('logs/full', sess.graph)\n",
    "    # Initializing the variables\n",
    "    sess.run(tf.global_variables_initializer())\n",
    "    \n",
    "    count = 0\n",
    "    # Training cycle\n",
    "    for epoch in range(epochs):\n",
    "        # Loop over all batches\n",
    "        n_batches = 5\n",
    "        for batch_i in range(1, n_batches + 1):\n",
    "            for batch_features, batch_labels in helper.load_preprocess_training_batch(batch_i, batch_size):\n",
    "                train_neural_network(sess, optimizer, keep_probability, batch_features, batch_labels)\n",
    "            print('Epoch {:>2}, CIFAR-10 Batch {}:  '.format(epoch + 1, batch_i), end='')\n",
    "            print_stats(sess, summary_writer, count, batch_features, batch_labels, cost, accuracy)\n",
    "            count += 1\n",
    "            \n",
    "    # Save Model\n",
    "    saver = tf.train.Saver()\n",
    "    save_path = saver.save(sess, save_model_path)"
   ]
  },
  {
   "cell_type": "markdown",
   "metadata": {
    "deletable": true,
    "editable": true
   },
   "source": [
    "# Checkpoint\n",
    "The model has been saved to disk.\n",
    "## Test Model\n",
    "Test your model against the test dataset.  This will be your final accuracy. You should have an accuracy greater than 50%. If you don't, keep tweaking the model architecture and parameters."
   ]
  },
  {
   "cell_type": "code",
   "execution_count": 41,
   "metadata": {
    "collapsed": false,
    "deletable": true,
    "editable": true
   },
   "outputs": [
    {
     "name": "stdout",
     "output_type": "stream",
     "text": [
      "Testing Accuracy: 0.64833984375\n",
      "\n"
     ]
    },
    {
     "data": {
      "image/png": "[encoded data removed]",
      "text/plain": [
       "<matplotlib.figure.Figure at 0x7f77d3f83b00>"
      ]
     },
     "metadata": {
      "image/png": {
       "height": 319,
       "width": 355
      }
     },
     "output_type": "display_data"
    }
   ],
   "source": [
    "\"\"\"\n",
    "DON'T MODIFY ANYTHING IN THIS CELL\n",
    "\"\"\"\n",
    "%matplotlib inline\n",
    "%config InlineBackend.figure_format = 'retina'\n",
    "\n",
    "import tensorflow as tf\n",
    "import pickle\n",
    "import helper\n",
    "import random\n",
    "\n",
    "# Set batch size if not already set\n",
    "try:\n",
    "    if batch_size:\n",
    "        pass\n",
    "except NameError:\n",
    "    batch_size = 64\n",
    "\n",
    "save_model_path = './image_classification'\n",
    "n_samples = 4\n",
    "top_n_predictions = 3\n",
    "\n",
    "def test_model():\n",
    "    \"\"\"\n",
    "    Test the saved model against the test dataset\n",
    "    \"\"\"\n",
    "\n",
    "    test_features, test_labels = pickle.load(open('preprocess_training.p', mode='rb'))\n",
    "    loaded_graph = tf.Graph()\n",
    "\n",
    "    with tf.Session(graph=loaded_graph) as sess:\n",
    "        # Load model\n",
    "        loader = tf.train.import_meta_graph(save_model_path + '.meta')\n",
    "        loader.restore(sess, save_model_path)\n",
    "\n",
    "        # Get Tensors from loaded model\n",
    "        loaded_x = loaded_graph.get_tensor_by_name('x:0')\n",
    "        loaded_y = loaded_graph.get_tensor_by_name('y:0')\n",
    "        loaded_keep_prob = loaded_graph.get_tensor_by_name('keep_prob:0')\n",
    "        loaded_logits = loaded_graph.get_tensor_by_name('logits:0')\n",
    "        loaded_acc = loaded_graph.get_tensor_by_name('accuracy:0')\n",
    "        \n",
    "        # Get accuracy in batches for memory limitations\n",
    "        test_batch_acc_total = 0\n",
    "        test_batch_count = 0\n",
    "        \n",
    "        for train_feature_batch, train_label_batch in helper.batch_features_labels(test_features, test_labels, batch_size):\n",
    "            test_batch_acc_total += sess.run(\n",
    "                loaded_acc,\n",
    "                feed_dict={loaded_x: train_feature_batch, loaded_y: train_label_batch, loaded_keep_prob: 1.0})\n",
    "            test_batch_count += 1\n",
    "\n",
    "        print('Testing Accuracy: {}\\n'.format(test_batch_acc_total/test_batch_count))\n",
    "\n",
    "        # Print Random Samples\n",
    "        random_test_features, random_test_labels = tuple(zip(*random.sample(list(zip(test_features, test_labels)), n_samples)))\n",
    "        random_test_predictions = sess.run(\n",
    "            tf.nn.top_k(tf.nn.softmax(loaded_logits), top_n_predictions),\n",
    "            feed_dict={loaded_x: random_test_features, loaded_y: random_test_labels, loaded_keep_prob: 1.0})\n",
    "        helper.display_image_predictions(random_test_features, random_test_labels, random_test_predictions)\n",
    "\n",
    "\n",
    "test_model()"
   ]
  },
  {
   "cell_type": "markdown",
   "metadata": {
    "deletable": true,
    "editable": true
   },
   "source": [
    "## Why 50-80% Accuracy?\n",
    "You might be wondering why you can't get an accuracy any higher. First things first, 50% isn't bad for a simple CNN.  Pure guessing would get you 10% accuracy. However, you might notice people are getting scores [well above 80%](http://rodrigob.github.io/are_we_there_yet/build/classification_datasets_results.html#43494641522d3130).  That's because we haven't taught you all there is to know about neural networks. We still need to cover a few more techniques.\n",
    "## Submitting This Project\n",
    "When submitting this project, make sure to run all the cells before saving the notebook.  Save the notebook file as \"dlnd_image_classification.ipynb\" and save it as a HTML file under \"File\" -> \"Download as\".  Include the \"helper.py\" and \"problem_unittests.py\" files in your submission."
   ]
  }
 ],
 "metadata": {
  "kernelspec": {
   "display_name": "Python 3",
   "language": "python",
   "name": "python3"
  },
  "language_info": {
   "codemirror_mode": {
    "name": "ipython",
    "version": 3
   },
   "file_extension": ".py",
   "mimetype": "text/x-python",
   "name": "python",
   "nbconvert_exporter": "python",
   "pygments_lexer": "ipython3",
   "version": "3.5.2"
  }
 },
 "nbformat": 4,
 "nbformat_minor": 0
}
